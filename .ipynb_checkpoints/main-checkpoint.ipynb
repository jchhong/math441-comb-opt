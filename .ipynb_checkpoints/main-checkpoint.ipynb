{
 "cells": [
  {
   "cell_type": "code",
   "execution_count": null,
   "id": "45df7254-0097-40cb-a702-5c1cf6358036",
   "metadata": {},
   "outputs": [],
   "source": [
    "%pip install osmnx\n",
    "%pip install contextily\n",
    "%pip install networkx"
   ]
  },
  {
   "cell_type": "code",
   "execution_count": null,
   "id": "f34fb165-9f98-4888-9854-b65f4195968a",
   "metadata": {},
   "outputs": [],
   "source": [
    "import osmnx as ox\n",
    "import contextily\n",
    "\n",
    "import networkx as nx\n",
    "import matplotlib.pyplot as plt\n",
    "import scipy.linalg as la\n",
    "import numpy as np"
   ]
  },
  {
   "cell_type": "code",
   "execution_count": null,
   "id": "9383ff32-03f8-47d1-b84f-b91b49e53801",
   "metadata": {},
   "outputs": [],
   "source": [
    "north = 49.314886\n",
    "south = 49.1754210\n",
    "east = -123.002603\n",
    "west = -123.267771\n",
    "\n",
    "\n",
    "bounding_box = (west,south,east,north)\n",
    "\n",
    "G = ox.graph.graph_from_bbox(bounding_box, network_type = 'drive')"
   ]
  },
  {
   "cell_type": "code",
   "execution_count": null,
   "id": "8e7af5ee-a561-44aa-9bda-b70739c38498",
   "metadata": {},
   "outputs": [],
   "source": [
    "def plot_graph(f,ax,edges):\n",
    "    edges.plot(linewidth=.25, ax=ax, color='k')\n",
    "    contextily.add_basemap(ax=ax,\n",
    "                        crs=edges.crs,\n",
    "                        source = contextily.providers.CartoDB.Voyager)\n",
    "    ax.get_xaxis().set_visible(False)\n",
    "    ax.get_yaxis().set_visible(False)"
   ]
  },
  {
   "cell_type": "code",
   "execution_count": null,
   "id": "296d9755-c8e2-4c25-8ccd-15cb06938e77",
   "metadata": {},
   "outputs": [],
   "source": [
    "nodes, edges  = ox.graph_to_gdfs(G)\n",
    "\n",
    "f,ax = plt.subplots(1,1, figsize=(10,10))\n",
    "plot_graph(f,ax,edges)"
   ]
  },
  {
   "cell_type": "code",
   "execution_count": null,
   "id": "214060d0-2360-40f2-b4d8-ef84e4d248ff",
   "metadata": {},
   "outputs": [],
   "source": [
    "stores_downtown = [\n",
    "    (49.291074726223876, -123.1345112715533),\n",
    "    (49.285778717275015, -123.1388610469531),\n",
    "    (49.28543824009544, -123.12140394834859),\n",
    "    (49.288086333967435, -123.11403832867163),\n",
    "    (49.28108749140217, -123.12134595134327),\n",
    "    (49.27953626208601, -123.1155462508102),\n",
    "    (49.28131449647768, -123.10713668503729)\n",
    "]\n",
    "\n",
    "stores_van = [\n",
    "    (49.26710745424008, -123.24276573624313),\n",
    "    (49.26495239140005, -123.17770621538237),\n",
    "    (49.269395328423684, -123.15949483697254),\n",
    "    (49.264310005956226, -123.13849432853601),\n",
    "    (49.236563149786534, -123.1543967279795)\n",
    "]\n",
    "\n",
    "stores_eastvan = [\n",
    "    (49.265501224782504, -123.1167840944718),  \n",
    "    (49.264156985091404, -123.06992053669686),  \n",
    "    (49.260348107095176, -123.04365634497684),  \n",
    "    (49.26762952939976, -123.02494525414363),  \n",
    "    (49.24711277560665, -123.10169652190295),  \n",
    "    (49.24640207307076, -123.06359221703782),  \n",
    "    (49.23452058476019, -123.06597739540537),  \n",
    "    (49.207897379250966, -123.12469600383916),  \n",
    "    (49.21458384969505, -123.10853491891567),  \n",
    "    (49.22126941578986, -123.07746972234048),\n",
    "    (49.272454228734645, -123.1004652050492),  \n",
    "    (49.281730801002375, -123.03062404165448)\n",
    "]\n",
    "\n",
    "storage = [(49.19415257260286, -123.17518597496046)]\n",
    "\n",
    "stores = storage + stores_downtown + stores_van + stores_eastvan\n",
    "len(stores)"
   ]
  },
  {
   "cell_type": "code",
   "execution_count": null,
   "id": "c11f24f5-2bba-4fa1-83c1-db5d7467d4e9",
   "metadata": {},
   "outputs": [],
   "source": [
    "f,ax = plt.subplots(1,1, figsize=(10,12))\n",
    "plot_graph(f,ax,edges)\n",
    "for point in stores:\n",
    "    latitude,longitude = point\n",
    "    ax.scatter(longitude,latitude,s=60,label = point)\n",
    "plt.show()"
   ]
  },
  {
   "cell_type": "code",
   "execution_count": null,
   "id": "26c2696e-ad41-4f4c-ab16-99da4eaac639",
   "metadata": {},
   "outputs": [],
   "source": [
    "important_nodes = [ox.distance.nearest_nodes(G, point[1],point[0]) \n",
    "                   for point in stores]\n",
    "G = ox.distance.add_edge_lengths(G)"
   ]
  },
  {
   "cell_type": "code",
   "execution_count": null,
   "id": "b8b5f2f1-ed77-4652-a6c3-a485e85fa6e2",
   "metadata": {},
   "outputs": [],
   "source": [
    "shortest_paths = [[nx.shortest_path(G,node_0,node_1,weight='length') \n",
    "                   for node_1 in important_nodes] for node_0 in important_nodes]\n",
    "shortest_path_lengths = np.array([\n",
    "    [nx.shortest_path_length(G,node_0,node_1,weight='length') for node_1 in important_nodes]\n",
    "    for node_0 in important_nodes\n",
    "])"
   ]
  },
  {
   "cell_type": "code",
   "execution_count": null,
   "id": "00a6227a-db30-43ea-aa3e-0f2e1060691e",
   "metadata": {},
   "outputs": [],
   "source": [
    "def get_path_edges(path_nodes,edges):\n",
    "    edge_list = [(path_nodes[j],path_nodes[j+1]) for j in range(len(path_nodes)-1)]\n",
    "    return edges[edges.index.isin(edge_list)]\n",
    "\n",
    "def plot_paths(f,ax,tour,shortest_paths,lwidth):\n",
    "    for i in range(len(tour)-1):\n",
    "        shortest_path_edges = get_path_edges(shortest_paths[tour[i]][tour[i+1]],edges)\n",
    "        shortest_path_edges.plot(linewidth=lwidth, ax=ax, color='b')\n",
    "    shortest_path_edges = get_path_edges(shortest_paths[tour[-1]][tour[0]],edges)\n",
    "    shortest_path_edges.plot(linewidth=lwidth, ax=ax, color='b')\n",
    "\n",
    "def cost_matrix(V):\n",
    "    n = V.shape[0]\n",
    "    C = np.zeros((n,n))\n",
    "    for i in range(1,n):\n",
    "        for j in range(0,i):\n",
    "            C[i,j] = np.sqrt((V[j,0] - V[i,0])**2 + (V[j,1] - V[i,1])**2)\n",
    "            C[j,i] = C[i,j]\n",
    "    return C\n",
    "\n",
    "def tour_cost(C,tour):\n",
    "    n = len(tour)\n",
    "    cost = 0\n",
    "    for i in range(n-1):\n",
    "        cost += C[tour[i],tour[i+1]]\n",
    "    cost += C[tour[-1],tour[0]]\n",
    "    return cost\n",
    "\n",
    "def nearest_neighbor(V,start=0, C = None):\n",
    "    n = V.shape[0]\n",
    "    if C is None:\n",
    "        C = cost_matrix(V)\n",
    "    tour = [start]\n",
    "    nodes = list(range(n))\n",
    "    nodes.remove(start)\n",
    "    for i in range(1,n):\n",
    "        next_i = np.argmin(C[tour[-1],nodes])\n",
    "        next_node = nodes[next_i]\n",
    "        tour.append(next_node)\n",
    "        nodes.pop(next_i)\n",
    "    cost = tour_cost(C,tour)\n",
    "    return tour,cost"
   ]
  },
  {
   "cell_type": "code",
   "execution_count": null,
   "id": "a4a28a53-f1a6-4664-bf76-c262a354cc2c",
   "metadata": {},
   "outputs": [],
   "source": [
    "V = np.array(stores)"
   ]
  },
  {
   "cell_type": "code",
   "execution_count": null,
   "id": "7bbaa663-29ca-4703-80aa-977f9db5c81e",
   "metadata": {},
   "outputs": [],
   "source": [
    "tour,cost = nearest_neighbor(V,start = 0, C=shortest_path_lengths)\n",
    "tour_named = [stores[i] for i in tour]\n",
    "tour_named"
   ]
  },
  {
   "cell_type": "code",
   "execution_count": null,
   "id": "ae48c7cc-563a-4171-9884-a0429a4d4615",
   "metadata": {},
   "outputs": [],
   "source": [
    "f,ax = plt.subplots(1,1, figsize=(10,10))\n",
    "plot_graph(f,ax,edges)\n",
    "for point in stores:\n",
    "    ax.scatter(point[1],point[0],s=60)\n",
    "plot_paths(f,ax,tour,shortest_paths,1)\n",
    "plt.show()"
   ]
  },
  {
   "cell_type": "markdown",
   "id": "8aef2b4b-56b8-4737-a8e1-4025678145ea",
   "metadata": {},
   "source": [
    "## 2 cars to deliver by alternatively choose the next nearest stores. "
   ]
  },
  {
   "cell_type": "code",
   "execution_count": null,
   "id": "881f8cea-fb12-4eac-bf56-fe85a36a1ceb",
   "metadata": {
    "scrolled": true
   },
   "outputs": [],
   "source": [
    "# Setup initial data (from your provided code)\n",
    "V = np.array(stores)\n",
    "start = 0  # Storage/YVR is the starting point\n",
    "n = V.shape[0]\n",
    "unvisited = set(range(1, n))  # Exclude storage initially\n",
    "\n",
    "# Initialize car paths\n",
    "car1_path = [start]\n",
    "car2_path = [start]\n",
    "\n",
    "# Current positions of cars\n",
    "car_positions = [start, start]\n",
    "car_paths = [car1_path, car2_path]\n",
    "\n",
    "# Alternate selection by cars\n",
    "turn = 0  # car1 starts\n",
    "\n",
    "while unvisited:\n",
    "    current_pos = car_positions[turn]\n",
    "    \n",
    "    # Find nearest unvisited store\n",
    "    next_node = min(unvisited, key=lambda x: shortest_path_lengths[current_pos, x])\n",
    "    \n",
    "    # Update car path and position\n",
    "    car_paths[turn].append(next_node)\n",
    "    car_positions[turn] = next_node\n",
    "    \n",
    "    # Mark visited\n",
    "    unvisited.remove(next_node)\n",
    "    \n",
    "    # Alternate turns\n",
    "    turn = 1 - turn\n",
    "\n",
    "# Finally, both cars return to storage\n",
    "car1_path.append(start)\n",
    "car2_path.append(start)\n",
    "\n",
    "# Convert paths to store coordinates\n",
    "car1_stores = [stores[i] for i in car1_path]\n",
    "car2_stores = [stores[i] for i in car2_path]\n",
    "\n",
    "# Display results clearly\n",
    "print(\"🚗 Car 1 Tour:\")\n",
    "for loc in car1_stores:\n",
    "    print(loc)\n",
    "\n",
    "print(\"\\n🚙 Car 2 Tour:\")\n",
    "for loc in car2_stores:\n",
    "    print(loc)\n",
    "\n",
    "# Plot results visually\n",
    "f, ax = plt.subplots(figsize=(10, 10))\n",
    "plot_graph(f, ax, edges)\n",
    "\n",
    "# Plot stores\n",
    "for point in stores:\n",
    "    ax.scatter(point[1], point[0], s=60, color='k')\n",
    "\n",
    "# Plot paths clearly in different colors\n",
    "plot_paths(f, ax, car1_path, shortest_paths, lwidth=2)\n",
    "plot_paths(f, ax, car2_path, shortest_paths, lwidth=2)\n",
    "\n",
    "# Highlight the storage clearly\n",
    "storage_point = stores[start]\n",
    "ax.scatter(storage_point[1], storage_point[0], s=100, color='red', label='Storage (YVR)', zorder=5)\n",
    "ax.legend()\n",
    "\n",
    "plt.show()\n"
   ]
  },
  {
   "cell_type": "code",
   "execution_count": null,
   "id": "435e4ed0-6f43-47bd-a924-40fcc3da8ad8",
   "metadata": {},
   "outputs": [],
   "source": []
  }
 ],
 "metadata": {
  "kernelspec": {
   "display_name": "Python 3 (ipykernel)",
   "language": "python",
   "name": "python3"
  },
  "language_info": {
   "codemirror_mode": {
    "name": "ipython",
    "version": 3
   },
   "file_extension": ".py",
   "mimetype": "text/x-python",
   "name": "python",
   "nbconvert_exporter": "python",
   "pygments_lexer": "ipython3",
   "version": "3.12.8"
  }
 },
 "nbformat": 4,
 "nbformat_minor": 5
}
